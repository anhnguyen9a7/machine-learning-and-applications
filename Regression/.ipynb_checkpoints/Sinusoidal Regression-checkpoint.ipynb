{
 "cells": [
  {
   "cell_type": "code",
   "execution_count": 2,
   "metadata": {},
   "outputs": [
    {
     "data": {
      "text/plain": [
       "<Figure size 640x480 with 1 Axes>"
      ]
     },
     "metadata": {},
     "output_type": "display_data"
    }
   ],
   "source": [
    "import numpy as np\n",
    "import matplotlib.pyplot as plt\n",
    "\n",
    "# data size\n",
    "N = 10\n",
    "\n",
    "# numbers of feature\n",
    "M = 3\n",
    "\n",
    "# get real value from the original curve\n",
    "def getRealVal(X):\n",
    "    return np.sin(2*np.pi*X)\n",
    "\n",
    "# original data\n",
    "X_data = np.random.uniform(0,1,N)\n",
    "t_data = getRealVal(X_data) + np.random.uniform(-0.5,0.5,N)\n",
    "x = np.arange(0,1,0.01)\n",
    "\n",
    "# setting the plot\n",
    "plt.title('Mô hình đúng và các điểm dữ liệu sinh ra')\n",
    "plt.xlabel('x')\n",
    "plt.ylabel('t')\n",
    "\n",
    "# plot the original data\n",
    "plt.plot(x, getRealVal(x), c='r', label='Mô hình đúng')\n",
    "plt.scatter(X_data, t_data, label='Tập huấn luyện')\n",
    "plt.legend()\n",
    "plt.show()"
   ]
  },
  {
   "cell_type": "code",
   "execution_count": 6,
   "metadata": {},
   "outputs": [
    {
     "name": "stdout",
     "output_type": "stream",
     "text": [
      "[0.73530339 0.35632599 0.14440058 0.61187805 0.35800673 0.40740026\n",
      " 0.90967661 0.69717036 0.93316913 0.61302373]\n",
      "[[1.         0.73530339 0.54067107]\n",
      " [1.         0.35632599 0.12696821]\n",
      " [1.         0.14440058 0.02085153]\n",
      " [1.         0.61187805 0.37439475]\n",
      " [1.         0.35800673 0.12816882]\n",
      " [1.         0.40740026 0.16597497]\n",
      " [1.         0.90967661 0.82751154]\n",
      " [1.         0.69717036 0.48604651]\n",
      " [1.         0.93316913 0.87080463]\n",
      " [1.         0.61302373 0.37579809]]\n"
     ]
    }
   ],
   "source": [
    "print(X_data)\n",
    "\n",
    "# tranform X_data\n",
    "def transformX(X):\n",
    "    return np.array([np.array([x**i for i in range(M)]) for x in X])\n",
    "\n",
    "print(transformX(X_data))\n",
    "\n",
    "# calculate cost\n",
    "def calCost(X, t, w, B):\n",
    "    return np.sum((t.reshape(B,1) - np.dot(X, w.reshape(2,1))**2)/(2*B))\n",
    "\n",
    "# run gradient descent\n",
    "def gradientDescent(X, t, w, B):\n",
    "    cost_log = np.empty((0))\n",
    "    for i in range(epoch):\n",
    "        gradient = np.dot(X.T, np.dot(X, w.reshape(2,1)) - t.reshape(B,1))/B\n",
    "        w = w.reshape(2,1) - lr*gradient\n",
    "        cost_log = np.append(cost_log, calCost(X, t, w, B))\n",
    "    return w, cost_log\n",
    "\n",
    "# get predict value\n",
    "def getPrediction(x, w):\n",
    "    return [w[0] + w[1]*x_ for x_ in x]"
   ]
  },
  {
   "cell_type": "code",
   "execution_count": null,
   "metadata": {},
   "outputs": [],
   "source": []
  }
 ],
 "metadata": {
  "kernelspec": {
   "display_name": "Python 3",
   "language": "python",
   "name": "python3"
  },
  "language_info": {
   "codemirror_mode": {
    "name": "ipython",
    "version": 3
   },
   "file_extension": ".py",
   "mimetype": "text/x-python",
   "name": "python",
   "nbconvert_exporter": "python",
   "pygments_lexer": "ipython3",
   "version": "3.6.8"
  }
 },
 "nbformat": 4,
 "nbformat_minor": 4
}
